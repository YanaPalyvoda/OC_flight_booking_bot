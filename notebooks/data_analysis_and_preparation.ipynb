{
 "cells": [
  {
   "cell_type": "code",
   "execution_count": 1,
   "metadata": {},
   "outputs": [],
   "source": [
    "import pandas as pd\n",
    "import numpy as np\n",
    "import json"
   ]
  },
  {
   "cell_type": "markdown",
   "metadata": {},
   "source": [
    "# Développez un chatbot pour réserver des vacances"
   ]
  },
  {
   "cell_type": "markdown",
   "metadata": {},
   "source": [
    "## Analyse exploratoire de données"
   ]
  },
  {
   "cell_type": "code",
   "execution_count": 2,
   "metadata": {},
   "outputs": [],
   "source": [
    "with open(\"../Documents/Openclassrooms/P10/frames/frames.json\") as f:\n",
    "    dialogues = json.load(f)"
   ]
  },
  {
   "cell_type": "code",
   "execution_count": 3,
   "metadata": {},
   "outputs": [
    {
     "data": {
      "text/plain": [
       "{'text': 'Hello, I am looking to book a trip for 2 adults and 6 children for $21,300 or less. We are departing from Kochi for Denver.',\n",
       " 'labels': {'acts': [{'args': [{'val': 'book', 'key': 'intent'}],\n",
       "    'name': 'inform'},\n",
       "   {'args': [{'val': '6', 'key': 'n_children'},\n",
       "     {'val': '2', 'key': 'n_adults'},\n",
       "     {'val': '$21,300', 'key': 'budget'},\n",
       "     {'val': 'Kochi', 'key': 'or_city'},\n",
       "     {'val': 'Denver', 'key': 'dst_city'}],\n",
       "    'name': 'inform'},\n",
       "   {'args': [], 'name': 'greeting'}],\n",
       "  'acts_without_refs': [{'args': [{'val': 'book', 'key': 'intent'}],\n",
       "    'name': 'inform'},\n",
       "   {'args': [{'val': '6', 'key': 'n_children'},\n",
       "     {'val': '2', 'key': 'n_adults'},\n",
       "     {'val': '$21,300', 'key': 'budget'},\n",
       "     {'val': 'Kochi', 'key': 'or_city'},\n",
       "     {'val': 'Denver', 'key': 'dst_city'}],\n",
       "    'name': 'inform'},\n",
       "   {'args': [], 'name': 'greeting'}],\n",
       "  'active_frame': 1,\n",
       "  'frames': [{'info': {'intent': [{'val': 'book', 'negated': False}],\n",
       "     'budget': [{'val': '21.3', 'negated': False}],\n",
       "     'dst_city': [{'val': 'Denver', 'negated': False}],\n",
       "     'n_children': [{'val': '6', 'negated': False}],\n",
       "     'or_city': [{'val': 'Kochi', 'negated': False}],\n",
       "     'n_adults': [{'val': '2', 'negated': False}]},\n",
       "    'frame_id': 1,\n",
       "    'requests': [],\n",
       "    'frame_parent_id': None,\n",
       "    'binary_questions': [],\n",
       "    'compare_requests': []}]},\n",
       " 'author': 'user',\n",
       " 'timestamp': 1471274608301.0}"
      ]
     },
     "execution_count": 3,
     "metadata": {},
     "output_type": "execute_result"
    }
   ],
   "source": [
    "dialogues[4].get(\"turns\")[0]"
   ]
  },
  {
   "cell_type": "code",
   "execution_count": 4,
   "metadata": {},
   "outputs": [
    {
     "data": {
      "text/html": [
       "<div>\n",
       "<style scoped>\n",
       "    .dataframe tbody tr th:only-of-type {\n",
       "        vertical-align: middle;\n",
       "    }\n",
       "\n",
       "    .dataframe tbody tr th {\n",
       "        vertical-align: top;\n",
       "    }\n",
       "\n",
       "    .dataframe thead th {\n",
       "        text-align: right;\n",
       "    }\n",
       "</style>\n",
       "<table border=\"1\" class=\"dataframe\">\n",
       "  <thead>\n",
       "    <tr style=\"text-align: right;\">\n",
       "      <th></th>\n",
       "      <th>user_id</th>\n",
       "      <th>turns</th>\n",
       "      <th>wizard_id</th>\n",
       "      <th>id</th>\n",
       "      <th>labels</th>\n",
       "    </tr>\n",
       "  </thead>\n",
       "  <tbody>\n",
       "    <tr>\n",
       "      <th>0</th>\n",
       "      <td>U22HTHYNP</td>\n",
       "      <td>[{'text': 'I'd like to book a trip to Atlantis...</td>\n",
       "      <td>U21DKG18C</td>\n",
       "      <td>e2c0fc6c-2134-4891-8353-ef16d8412c9a</td>\n",
       "      <td>{'userSurveyRating': 4.0, 'wizardSurveyTaskSuc...</td>\n",
       "    </tr>\n",
       "    <tr>\n",
       "      <th>1</th>\n",
       "      <td>U21E41CQP</td>\n",
       "      <td>[{'text': 'Hello, I am looking to book a vacat...</td>\n",
       "      <td>U21DMV0KA</td>\n",
       "      <td>4a3bfa39-2c22-42c8-8694-32b4e34415e9</td>\n",
       "      <td>{'userSurveyRating': 3.0, 'wizardSurveyTaskSuc...</td>\n",
       "    </tr>\n",
       "    <tr>\n",
       "      <th>2</th>\n",
       "      <td>U21RP4FCY</td>\n",
       "      <td>[{'text': 'Hello there i am looking to go on a...</td>\n",
       "      <td>U21E0179B</td>\n",
       "      <td>6e67ed28-e94c-4fab-96b6-68569a92682f</td>\n",
       "      <td>{'userSurveyRating': 2.0, 'wizardSurveyTaskSuc...</td>\n",
       "    </tr>\n",
       "    <tr>\n",
       "      <th>3</th>\n",
       "      <td>U22HTHYNP</td>\n",
       "      <td>[{'text': 'Hi I'd like to go to Caprica from B...</td>\n",
       "      <td>U21DKG18C</td>\n",
       "      <td>5ae76e50-5b48-4166-9f6d-67aaabd7bcaa</td>\n",
       "      <td>{'userSurveyRating': 5.0, 'wizardSurveyTaskSuc...</td>\n",
       "    </tr>\n",
       "    <tr>\n",
       "      <th>4</th>\n",
       "      <td>U21E41CQP</td>\n",
       "      <td>[{'text': 'Hello, I am looking to book a trip ...</td>\n",
       "      <td>U21DMV0KA</td>\n",
       "      <td>24603086-bb53-431e-a0d8-1dcc63518ba9</td>\n",
       "      <td>{'userSurveyRating': 5.0, 'wizardSurveyTaskSuc...</td>\n",
       "    </tr>\n",
       "  </tbody>\n",
       "</table>\n",
       "</div>"
      ],
      "text/plain": [
       "     user_id                                              turns  wizard_id  \\\n",
       "0  U22HTHYNP  [{'text': 'I'd like to book a trip to Atlantis...  U21DKG18C   \n",
       "1  U21E41CQP  [{'text': 'Hello, I am looking to book a vacat...  U21DMV0KA   \n",
       "2  U21RP4FCY  [{'text': 'Hello there i am looking to go on a...  U21E0179B   \n",
       "3  U22HTHYNP  [{'text': 'Hi I'd like to go to Caprica from B...  U21DKG18C   \n",
       "4  U21E41CQP  [{'text': 'Hello, I am looking to book a trip ...  U21DMV0KA   \n",
       "\n",
       "                                     id  \\\n",
       "0  e2c0fc6c-2134-4891-8353-ef16d8412c9a   \n",
       "1  4a3bfa39-2c22-42c8-8694-32b4e34415e9   \n",
       "2  6e67ed28-e94c-4fab-96b6-68569a92682f   \n",
       "3  5ae76e50-5b48-4166-9f6d-67aaabd7bcaa   \n",
       "4  24603086-bb53-431e-a0d8-1dcc63518ba9   \n",
       "\n",
       "                                              labels  \n",
       "0  {'userSurveyRating': 4.0, 'wizardSurveyTaskSuc...  \n",
       "1  {'userSurveyRating': 3.0, 'wizardSurveyTaskSuc...  \n",
       "2  {'userSurveyRating': 2.0, 'wizardSurveyTaskSuc...  \n",
       "3  {'userSurveyRating': 5.0, 'wizardSurveyTaskSuc...  \n",
       "4  {'userSurveyRating': 5.0, 'wizardSurveyTaskSuc...  "
      ]
     },
     "execution_count": 4,
     "metadata": {},
     "output_type": "execute_result"
    }
   ],
   "source": [
    "data = pd.DataFrame(dialogues)\n",
    "data.head()"
   ]
  },
  {
   "cell_type": "code",
   "execution_count": 5,
   "metadata": {},
   "outputs": [
    {
     "data": {
      "text/plain": [
       "Index(['user_id', 'turns', 'wizard_id', 'id', 'labels'], dtype='object')"
      ]
     },
     "execution_count": 5,
     "metadata": {},
     "output_type": "execute_result"
    }
   ],
   "source": [
    "data.columns"
   ]
  },
  {
   "cell_type": "code",
   "execution_count": 6,
   "metadata": {},
   "outputs": [
    {
     "data": {
      "text/plain": [
       "array([{'userSurveyRating': 4.0, 'wizardSurveyTaskSuccessful': True},\n",
       "       {'userSurveyRating': 3.0, 'wizardSurveyTaskSuccessful': True},\n",
       "       {'userSurveyRating': 2.0, 'wizardSurveyTaskSuccessful': False},\n",
       "       ..., {'userSurveyRating': 5.0, 'wizardSurveyTaskSuccessful': True},\n",
       "       {'userSurveyRating': 4.0, 'wizardSurveyTaskSuccessful': True},\n",
       "       {'userSurveyRating': 5.0, 'wizardSurveyTaskSuccessful': True}],\n",
       "      dtype=object)"
      ]
     },
     "execution_count": 6,
     "metadata": {},
     "output_type": "execute_result"
    }
   ],
   "source": [
    "data['labels'].values"
   ]
  },
  {
   "cell_type": "markdown",
   "metadata": {},
   "source": [
    "Pour l’entrainement nous allons garder uniquement les dialogues validés par le client"
   ]
  },
  {
   "cell_type": "code",
   "execution_count": 7,
   "metadata": {},
   "outputs": [],
   "source": [
    "data_final = data[data['labels']== {'userSurveyRating': 5.0, 'wizardSurveyTaskSuccessful': True}]"
   ]
  },
  {
   "cell_type": "code",
   "execution_count": 8,
   "metadata": {},
   "outputs": [
    {
     "data": {
      "text/plain": [
       "(929, 5)"
      ]
     },
     "execution_count": 8,
     "metadata": {},
     "output_type": "execute_result"
    }
   ],
   "source": [
    "data_final.shape"
   ]
  },
  {
   "cell_type": "code",
   "execution_count": 9,
   "metadata": {},
   "outputs": [],
   "source": [
    "df_examples = data_final[['turns']].reset_index(drop=True)"
   ]
  },
  {
   "cell_type": "code",
   "execution_count": 10,
   "metadata": {},
   "outputs": [
    {
     "data": {
      "text/html": [
       "<div>\n",
       "<style scoped>\n",
       "    .dataframe tbody tr th:only-of-type {\n",
       "        vertical-align: middle;\n",
       "    }\n",
       "\n",
       "    .dataframe tbody tr th {\n",
       "        vertical-align: top;\n",
       "    }\n",
       "\n",
       "    .dataframe thead th {\n",
       "        text-align: right;\n",
       "    }\n",
       "</style>\n",
       "<table border=\"1\" class=\"dataframe\">\n",
       "  <thead>\n",
       "    <tr style=\"text-align: right;\">\n",
       "      <th></th>\n",
       "      <th>turns</th>\n",
       "    </tr>\n",
       "  </thead>\n",
       "  <tbody>\n",
       "    <tr>\n",
       "      <th>0</th>\n",
       "      <td>[{'text': 'Hi I'd like to go to Caprica from B...</td>\n",
       "    </tr>\n",
       "    <tr>\n",
       "      <th>1</th>\n",
       "      <td>[{'text': 'Hello, I am looking to book a trip ...</td>\n",
       "    </tr>\n",
       "    <tr>\n",
       "      <th>2</th>\n",
       "      <td>[{'text': 'Good day, please book me a trip fro...</td>\n",
       "    </tr>\n",
       "    <tr>\n",
       "      <th>3</th>\n",
       "      <td>[{'text': 'Hi im looking for a nice destinatio...</td>\n",
       "    </tr>\n",
       "    <tr>\n",
       "      <th>4</th>\n",
       "      <td>[{'text': 'Hi, I have a big family and we can'...</td>\n",
       "    </tr>\n",
       "  </tbody>\n",
       "</table>\n",
       "</div>"
      ],
      "text/plain": [
       "                                               turns\n",
       "0  [{'text': 'Hi I'd like to go to Caprica from B...\n",
       "1  [{'text': 'Hello, I am looking to book a trip ...\n",
       "2  [{'text': 'Good day, please book me a trip fro...\n",
       "3  [{'text': 'Hi im looking for a nice destinatio...\n",
       "4  [{'text': 'Hi, I have a big family and we can'..."
      ]
     },
     "execution_count": 10,
     "metadata": {},
     "output_type": "execute_result"
    }
   ],
   "source": [
    "df_examples.head()"
   ]
  },
  {
   "cell_type": "code",
   "execution_count": 11,
   "metadata": {},
   "outputs": [],
   "source": [
    "#df_examples['turns'][:][0]"
   ]
  },
  {
   "cell_type": "code",
   "execution_count": 12,
   "metadata": {},
   "outputs": [],
   "source": [
    "result=[]\n",
    "for row in df_examples['turns']:\n",
    "    new_row = {}\n",
    "    new_row.update({'text':row[0].get('text')})\n",
    "    for elem in row[0].get('labels').get('acts'):\n",
    "        for item in elem.get('args'):\n",
    "            new_row.update({item.get('key'):item.get('val')})\n",
    "    result.append(new_row)\n",
    "    \n",
    "df_result= pd.DataFrame.from_records(result)"
   ]
  },
  {
   "cell_type": "code",
   "execution_count": 13,
   "metadata": {},
   "outputs": [
    {
     "name": "stdout",
     "output_type": "stream",
     "text": [
      "(929, 21)\n"
     ]
    },
    {
     "data": {
      "text/html": [
       "<div>\n",
       "<style scoped>\n",
       "    .dataframe tbody tr th:only-of-type {\n",
       "        vertical-align: middle;\n",
       "    }\n",
       "\n",
       "    .dataframe tbody tr th {\n",
       "        vertical-align: top;\n",
       "    }\n",
       "\n",
       "    .dataframe thead th {\n",
       "        text-align: right;\n",
       "    }\n",
       "</style>\n",
       "<table border=\"1\" class=\"dataframe\">\n",
       "  <thead>\n",
       "    <tr style=\"text-align: right;\">\n",
       "      <th></th>\n",
       "      <th>text</th>\n",
       "      <th>intent</th>\n",
       "      <th>dst_city</th>\n",
       "      <th>or_city</th>\n",
       "      <th>str_date</th>\n",
       "      <th>end_date</th>\n",
       "      <th>n_children</th>\n",
       "      <th>n_adults</th>\n",
       "      <th>budget</th>\n",
       "      <th>max_duration</th>\n",
       "      <th>...</th>\n",
       "      <th>flex</th>\n",
       "      <th>name</th>\n",
       "      <th>beach</th>\n",
       "      <th>seat</th>\n",
       "      <th>category</th>\n",
       "      <th>min_duration</th>\n",
       "      <th>price</th>\n",
       "      <th>park</th>\n",
       "      <th>count_dst_city</th>\n",
       "      <th>university</th>\n",
       "    </tr>\n",
       "  </thead>\n",
       "  <tbody>\n",
       "    <tr>\n",
       "      <th>0</th>\n",
       "      <td>Hi I'd like to go to Caprica from Busan, betwe...</td>\n",
       "      <td>book</td>\n",
       "      <td>Caprica</td>\n",
       "      <td>Busan</td>\n",
       "      <td>Sunday August 21, 2016</td>\n",
       "      <td>Wednesday August 31, 2016</td>\n",
       "      <td>NaN</td>\n",
       "      <td>NaN</td>\n",
       "      <td>NaN</td>\n",
       "      <td>NaN</td>\n",
       "      <td>...</td>\n",
       "      <td>NaN</td>\n",
       "      <td>NaN</td>\n",
       "      <td>NaN</td>\n",
       "      <td>NaN</td>\n",
       "      <td>NaN</td>\n",
       "      <td>NaN</td>\n",
       "      <td>NaN</td>\n",
       "      <td>NaN</td>\n",
       "      <td>NaN</td>\n",
       "      <td>NaN</td>\n",
       "    </tr>\n",
       "    <tr>\n",
       "      <th>1</th>\n",
       "      <td>Hello, I am looking to book a trip for 2 adult...</td>\n",
       "      <td>book</td>\n",
       "      <td>Denver</td>\n",
       "      <td>Kochi</td>\n",
       "      <td>NaN</td>\n",
       "      <td>NaN</td>\n",
       "      <td>6</td>\n",
       "      <td>2</td>\n",
       "      <td>$21,300</td>\n",
       "      <td>NaN</td>\n",
       "      <td>...</td>\n",
       "      <td>NaN</td>\n",
       "      <td>NaN</td>\n",
       "      <td>NaN</td>\n",
       "      <td>NaN</td>\n",
       "      <td>NaN</td>\n",
       "      <td>NaN</td>\n",
       "      <td>NaN</td>\n",
       "      <td>NaN</td>\n",
       "      <td>NaN</td>\n",
       "      <td>NaN</td>\n",
       "    </tr>\n",
       "    <tr>\n",
       "      <th>2</th>\n",
       "      <td>Good day, please book me a trip from Vancouver...</td>\n",
       "      <td>book</td>\n",
       "      <td>Recife</td>\n",
       "      <td>Vancouver, Jamaica</td>\n",
       "      <td>August 24</td>\n",
       "      <td>NaN</td>\n",
       "      <td>NaN</td>\n",
       "      <td>NaN</td>\n",
       "      <td>NaN</td>\n",
       "      <td>17 days</td>\n",
       "      <td>...</td>\n",
       "      <td>NaN</td>\n",
       "      <td>NaN</td>\n",
       "      <td>NaN</td>\n",
       "      <td>NaN</td>\n",
       "      <td>NaN</td>\n",
       "      <td>NaN</td>\n",
       "      <td>NaN</td>\n",
       "      <td>NaN</td>\n",
       "      <td>NaN</td>\n",
       "      <td>NaN</td>\n",
       "    </tr>\n",
       "    <tr>\n",
       "      <th>3</th>\n",
       "      <td>Hi im looking for a nice destination that i co...</td>\n",
       "      <td>book</td>\n",
       "      <td>NaN</td>\n",
       "      <td>Columbus</td>\n",
       "      <td>NaN</td>\n",
       "      <td>NaN</td>\n",
       "      <td>NaN</td>\n",
       "      <td>NaN</td>\n",
       "      <td>NaN</td>\n",
       "      <td>NaN</td>\n",
       "      <td>...</td>\n",
       "      <td>NaN</td>\n",
       "      <td>NaN</td>\n",
       "      <td>NaN</td>\n",
       "      <td>NaN</td>\n",
       "      <td>NaN</td>\n",
       "      <td>NaN</td>\n",
       "      <td>NaN</td>\n",
       "      <td>NaN</td>\n",
       "      <td>NaN</td>\n",
       "      <td>NaN</td>\n",
       "    </tr>\n",
       "    <tr>\n",
       "      <th>4</th>\n",
       "      <td>Hi, I have a big family and we can't afford a ...</td>\n",
       "      <td>book</td>\n",
       "      <td>Atlantis</td>\n",
       "      <td>Mos Eisley</td>\n",
       "      <td>NaN</td>\n",
       "      <td>NaN</td>\n",
       "      <td>NaN</td>\n",
       "      <td>NaN</td>\n",
       "      <td>$3600</td>\n",
       "      <td>NaN</td>\n",
       "      <td>...</td>\n",
       "      <td>NaN</td>\n",
       "      <td>NaN</td>\n",
       "      <td>NaN</td>\n",
       "      <td>NaN</td>\n",
       "      <td>NaN</td>\n",
       "      <td>NaN</td>\n",
       "      <td>NaN</td>\n",
       "      <td>NaN</td>\n",
       "      <td>NaN</td>\n",
       "      <td>NaN</td>\n",
       "    </tr>\n",
       "  </tbody>\n",
       "</table>\n",
       "<p>5 rows × 21 columns</p>\n",
       "</div>"
      ],
      "text/plain": [
       "                                                text intent  dst_city  \\\n",
       "0  Hi I'd like to go to Caprica from Busan, betwe...   book   Caprica   \n",
       "1  Hello, I am looking to book a trip for 2 adult...   book    Denver   \n",
       "2  Good day, please book me a trip from Vancouver...   book    Recife   \n",
       "3  Hi im looking for a nice destination that i co...   book       NaN   \n",
       "4  Hi, I have a big family and we can't afford a ...   book  Atlantis   \n",
       "\n",
       "              or_city                str_date                   end_date  \\\n",
       "0               Busan  Sunday August 21, 2016  Wednesday August 31, 2016   \n",
       "1               Kochi                     NaN                        NaN   \n",
       "2  Vancouver, Jamaica               August 24                        NaN   \n",
       "3            Columbus                     NaN                        NaN   \n",
       "4          Mos Eisley                     NaN                        NaN   \n",
       "\n",
       "  n_children n_adults   budget max_duration  ... flex name  beach seat  \\\n",
       "0        NaN      NaN      NaN          NaN  ...  NaN  NaN    NaN  NaN   \n",
       "1          6        2  $21,300          NaN  ...  NaN  NaN    NaN  NaN   \n",
       "2        NaN      NaN      NaN      17 days  ...  NaN  NaN    NaN  NaN   \n",
       "3        NaN      NaN      NaN          NaN  ...  NaN  NaN    NaN  NaN   \n",
       "4        NaN      NaN    $3600          NaN  ...  NaN  NaN    NaN  NaN   \n",
       "\n",
       "  category min_duration price  park count_dst_city university  \n",
       "0      NaN          NaN   NaN   NaN            NaN        NaN  \n",
       "1      NaN          NaN   NaN   NaN            NaN        NaN  \n",
       "2      NaN          NaN   NaN   NaN            NaN        NaN  \n",
       "3      NaN          NaN   NaN   NaN            NaN        NaN  \n",
       "4      NaN          NaN   NaN   NaN            NaN        NaN  \n",
       "\n",
       "[5 rows x 21 columns]"
      ]
     },
     "execution_count": 13,
     "metadata": {},
     "output_type": "execute_result"
    }
   ],
   "source": [
    "print(df_result.shape)\n",
    "df_result.head()"
   ]
  },
  {
   "cell_type": "code",
   "execution_count": 14,
   "metadata": {},
   "outputs": [
    {
     "data": {
      "text/plain": [
       "(778, 7)"
      ]
     },
     "execution_count": 14,
     "metadata": {},
     "output_type": "execute_result"
    }
   ],
   "source": [
    "df_result_final = df_result[['text','intent','dst_city','or_city','str_date','end_date','budget']]\n",
    "df_result_final=df_result_final[(df_result_final['intent'].notna())& (df_result_final['intent']=='book')]\n",
    "df_result_final.shape"
   ]
  },
  {
   "cell_type": "code",
   "execution_count": 15,
   "metadata": {},
   "outputs": [],
   "source": [
    "# <createUtterance>\n",
    "def create_utterance(intent, utterance, labels):\n",
    "    \"\"\"Add an example LUIS utterance from utterance text and a list of\n",
    "       labels.  Each label is a 2-tuple containing a label name and the\n",
    "       text within the utterance that represents that label.\n",
    "\n",
    "       Utterances apply to a specific intent, which must be specified.\"\"\"\n",
    "\n",
    "    text = utterance.lower()\n",
    "    def label(name, value):\n",
    "        value = value.lower()\n",
    "        start = text.index(value)\n",
    "        return dict(entity_name=name, start_char_index=start,\n",
    "                    end_char_index=start + len(value))\n",
    "\n",
    "    return dict(text=text, intent_name=intent, entity_labels=[label(n, v) for (n, v) in labels])\n",
    "# </createUtterance>"
   ]
  },
  {
   "cell_type": "code",
   "execution_count": 16,
   "metadata": {},
   "outputs": [
    {
     "data": {
      "text/html": [
       "<div>\n",
       "<style scoped>\n",
       "    .dataframe tbody tr th:only-of-type {\n",
       "        vertical-align: middle;\n",
       "    }\n",
       "\n",
       "    .dataframe tbody tr th {\n",
       "        vertical-align: top;\n",
       "    }\n",
       "\n",
       "    .dataframe thead th {\n",
       "        text-align: right;\n",
       "    }\n",
       "</style>\n",
       "<table border=\"1\" class=\"dataframe\">\n",
       "  <thead>\n",
       "    <tr style=\"text-align: right;\">\n",
       "      <th></th>\n",
       "      <th>text</th>\n",
       "      <th>intent</th>\n",
       "      <th>dst_city</th>\n",
       "      <th>or_city</th>\n",
       "      <th>str_date</th>\n",
       "      <th>end_date</th>\n",
       "      <th>budget</th>\n",
       "    </tr>\n",
       "  </thead>\n",
       "  <tbody>\n",
       "    <tr>\n",
       "      <th>count</th>\n",
       "      <td>778</td>\n",
       "      <td>778</td>\n",
       "      <td>540</td>\n",
       "      <td>497</td>\n",
       "      <td>224</td>\n",
       "      <td>132</td>\n",
       "      <td>151</td>\n",
       "    </tr>\n",
       "    <tr>\n",
       "      <th>unique</th>\n",
       "      <td>777</td>\n",
       "      <td>1</td>\n",
       "      <td>191</td>\n",
       "      <td>199</td>\n",
       "      <td>141</td>\n",
       "      <td>105</td>\n",
       "      <td>94</td>\n",
       "    </tr>\n",
       "    <tr>\n",
       "      <th>top</th>\n",
       "      <td>I want to go to Dublin</td>\n",
       "      <td>book</td>\n",
       "      <td>-1</td>\n",
       "      <td>Beijing</td>\n",
       "      <td>August 27th</td>\n",
       "      <td>27th</td>\n",
       "      <td>-1</td>\n",
       "    </tr>\n",
       "    <tr>\n",
       "      <th>freq</th>\n",
       "      <td>2</td>\n",
       "      <td>778</td>\n",
       "      <td>17</td>\n",
       "      <td>11</td>\n",
       "      <td>9</td>\n",
       "      <td>4</td>\n",
       "      <td>11</td>\n",
       "    </tr>\n",
       "  </tbody>\n",
       "</table>\n",
       "</div>"
      ],
      "text/plain": [
       "                          text intent dst_city  or_city     str_date end_date  \\\n",
       "count                      778    778      540      497          224      132   \n",
       "unique                     777      1      191      199          141      105   \n",
       "top     I want to go to Dublin   book       -1  Beijing  August 27th     27th   \n",
       "freq                         2    778       17       11            9        4   \n",
       "\n",
       "       budget  \n",
       "count     151  \n",
       "unique     94  \n",
       "top        -1  \n",
       "freq       11  "
      ]
     },
     "execution_count": 16,
     "metadata": {},
     "output_type": "execute_result"
    }
   ],
   "source": [
    "df_result_final.describe(include ='all')"
   ]
  },
  {
   "cell_type": "code",
   "execution_count": 17,
   "metadata": {},
   "outputs": [
    {
     "data": {
      "text/plain": [
       "text          0\n",
       "intent        0\n",
       "dst_city    238\n",
       "or_city     281\n",
       "str_date    554\n",
       "end_date    646\n",
       "budget      627\n",
       "dtype: int64"
      ]
     },
     "execution_count": 17,
     "metadata": {},
     "output_type": "execute_result"
    }
   ],
   "source": [
    "df_result_final.isna().sum()"
   ]
  },
  {
   "cell_type": "code",
   "execution_count": 18,
   "metadata": {},
   "outputs": [
    {
     "data": {
      "text/plain": [
       "<AxesSubplot:>"
      ]
     },
     "execution_count": 18,
     "metadata": {},
     "output_type": "execute_result"
    },
    {
     "data": {
      "image/png": "[encoded data removed]",
      "text/plain": [
       "<Figure size 432x288 with 2 Axes>"
      ]
     },
     "metadata": {
      "needs_background": "light"
     },
     "output_type": "display_data"
    }
   ],
   "source": [
    "import seaborn as sns\n",
    "sns.heatmap(df_result_final.isnull(),cmap=\"BuGn_r\")"
   ]
  },
  {
   "cell_type": "markdown",
   "metadata": {},
   "source": [
    "## Préparation des données"
   ]
  },
  {
   "cell_type": "code",
   "execution_count": 19,
   "metadata": {},
   "outputs": [
    {
     "name": "stderr",
     "output_type": "stream",
     "text": [
      "<ipython-input-19-7abd1a9410ca>:3: FutureWarning: The default value of regex will change from True to False in a future version. In addition, single character regular expressions will*not* be treated as literal strings when regex=True.\n",
      "  df_result_final = df_result_final.apply(lambda x: x.str.replace('.', ''))\n"
     ]
    },
    {
     "data": {
      "text/html": [
       "<div>\n",
       "<style scoped>\n",
       "    .dataframe tbody tr th:only-of-type {\n",
       "        vertical-align: middle;\n",
       "    }\n",
       "\n",
       "    .dataframe tbody tr th {\n",
       "        vertical-align: top;\n",
       "    }\n",
       "\n",
       "    .dataframe thead th {\n",
       "        text-align: right;\n",
       "    }\n",
       "</style>\n",
       "<table border=\"1\" class=\"dataframe\">\n",
       "  <thead>\n",
       "    <tr style=\"text-align: right;\">\n",
       "      <th></th>\n",
       "      <th>text</th>\n",
       "      <th>intent</th>\n",
       "      <th>dst_city</th>\n",
       "      <th>or_city</th>\n",
       "      <th>str_date</th>\n",
       "      <th>end_date</th>\n",
       "      <th>budget</th>\n",
       "    </tr>\n",
       "  </thead>\n",
       "  <tbody>\n",
       "    <tr>\n",
       "      <th>0</th>\n",
       "      <td>Hi I'd like to go to Caprica from Busan, betwe...</td>\n",
       "      <td>book</td>\n",
       "      <td>Caprica</td>\n",
       "      <td>Busan</td>\n",
       "      <td>Sunday August 21, 2016</td>\n",
       "      <td>Wednesday August 31, 2016</td>\n",
       "      <td></td>\n",
       "    </tr>\n",
       "    <tr>\n",
       "      <th>1</th>\n",
       "      <td>Hello, I am looking to book a trip for 2 adult...</td>\n",
       "      <td>book</td>\n",
       "      <td>Denver</td>\n",
       "      <td>Kochi</td>\n",
       "      <td></td>\n",
       "      <td></td>\n",
       "      <td>$21,300</td>\n",
       "    </tr>\n",
       "    <tr>\n",
       "      <th>2</th>\n",
       "      <td>Good day, please book me a trip from Vancouver...</td>\n",
       "      <td>book</td>\n",
       "      <td>Recife</td>\n",
       "      <td>Vancouver, Jamaica</td>\n",
       "      <td>August 24</td>\n",
       "      <td></td>\n",
       "      <td></td>\n",
       "    </tr>\n",
       "    <tr>\n",
       "      <th>3</th>\n",
       "      <td>Hi im looking for a nice destination that i co...</td>\n",
       "      <td>book</td>\n",
       "      <td></td>\n",
       "      <td>Columbus</td>\n",
       "      <td></td>\n",
       "      <td></td>\n",
       "      <td></td>\n",
       "    </tr>\n",
       "    <tr>\n",
       "      <th>4</th>\n",
       "      <td>Hi, I have a big family and we can't afford a ...</td>\n",
       "      <td>book</td>\n",
       "      <td>Atlantis</td>\n",
       "      <td>Mos Eisley</td>\n",
       "      <td></td>\n",
       "      <td></td>\n",
       "      <td>$3600</td>\n",
       "    </tr>\n",
       "  </tbody>\n",
       "</table>\n",
       "</div>"
      ],
      "text/plain": [
       "                                                text intent  dst_city  \\\n",
       "0  Hi I'd like to go to Caprica from Busan, betwe...   book   Caprica   \n",
       "1  Hello, I am looking to book a trip for 2 adult...   book    Denver   \n",
       "2  Good day, please book me a trip from Vancouver...   book    Recife   \n",
       "3  Hi im looking for a nice destination that i co...   book             \n",
       "4  Hi, I have a big family and we can't afford a ...   book  Atlantis   \n",
       "\n",
       "              or_city                str_date                   end_date  \\\n",
       "0               Busan  Sunday August 21, 2016  Wednesday August 31, 2016   \n",
       "1               Kochi                                                      \n",
       "2  Vancouver, Jamaica               August 24                              \n",
       "3            Columbus                                                      \n",
       "4          Mos Eisley                                                      \n",
       "\n",
       "    budget  \n",
       "0           \n",
       "1  $21,300  \n",
       "2           \n",
       "3           \n",
       "4    $3600  "
      ]
     },
     "execution_count": 19,
     "metadata": {},
     "output_type": "execute_result"
    }
   ],
   "source": [
    "df_result_final = df_result_final.fillna('')\n",
    "df_result_final = df_result_final.apply(lambda x: x.str.replace('-1', ''))\n",
    "df_result_final = df_result_final.apply(lambda x: x.str.replace('.', ''))\n",
    "df_result_final = df_result_final.apply(lambda x: x.str.strip())\n",
    "df_result_final.head()"
   ]
  },
  {
   "cell_type": "code",
   "execution_count": 20,
   "metadata": {},
   "outputs": [
    {
     "name": "stdout",
     "output_type": "stream",
     "text": [
      "{'text': 'hello, i am looking to book a trip for 2 adults and 6 children for $21,300 or less we are departing from kochi for denver', 'intent_name': 'BookFlight', 'entity_labels': [{'entity_name': 'From', 'start_char_index': 105, 'end_char_index': 110}, {'entity_name': 'To', 'start_char_index': 115, 'end_char_index': 121}, {'entity_name': 'budget', 'start_char_index': 67, 'end_char_index': 74}]}\n"
     ]
    }
   ],
   "source": [
    "result_final=[]\n",
    "for idx, row in df_result_final.iterrows():\n",
    "    text =row['text']\n",
    "    if len(text)>5:\n",
    "        params = []\n",
    "        if len(row['or_city'])>2:\n",
    "            params.append(('From',row['or_city']))\n",
    "        if len(row['dst_city'])>2:\n",
    "            params.append(('To',row['dst_city']))\n",
    "        if len(row['str_date'])>3:\n",
    "            params.append(('on_date',row['str_date']))\n",
    "        if len(row['end_date'])>3:\n",
    "            params.append(('end_date',row['end_date']))\n",
    "        if len(row['budget'])>0:\n",
    "            params.append(('budget',row['budget']))\n",
    "        utterance=create_utterance('BookFlight',row['text'],params)\n",
    "    #if len(params)>0:\n",
    "    result_final.append(utterance)\n",
    "print(result_final[1])   "
   ]
  },
  {
   "cell_type": "markdown",
   "metadata": {},
   "source": [
    "Séparation des données en test set et train set"
   ]
  },
  {
   "cell_type": "code",
   "execution_count": 21,
   "metadata": {},
   "outputs": [
    {
     "name": "stdout",
     "output_type": "stream",
     "text": [
      "200\n",
      "577\n"
     ]
    }
   ],
   "source": [
    "test_set = result_final[:200]\n",
    "print(len(test_set))\n",
    "train_set = result_final[201:]\n",
    "print(len(train_set))\n"
   ]
  },
  {
   "cell_type": "code",
   "execution_count": 22,
   "metadata": {},
   "outputs": [
    {
     "data": {
      "text/plain": [
       "{'text': 'hello, i am looking to book a trip for 2 adults and 6 children for $21,300 or less we are departing from kochi for denver',\n",
       " 'intent_name': 'BookFlight',\n",
       " 'entity_labels': [{'entity_name': 'From',\n",
       "   'start_char_index': 105,\n",
       "   'end_char_index': 110},\n",
       "  {'entity_name': 'To', 'start_char_index': 115, 'end_char_index': 121},\n",
       "  {'entity_name': 'budget', 'start_char_index': 67, 'end_char_index': 74}]}"
      ]
     },
     "execution_count": 22,
     "metadata": {},
     "output_type": "execute_result"
    }
   ],
   "source": [
    "test_set[1]"
   ]
  },
  {
   "cell_type": "code",
   "execution_count": 23,
   "metadata": {},
   "outputs": [],
   "source": [
    "for elem in test_set:\n",
    "    elem['entities'] = elem.pop('entity_labels')\n",
    "    elem['intent'] = elem.pop('intent_name')\n",
    "    for item in elem.get('entities'):\n",
    "        item['entity'] = item.pop('entity_name')\n",
    "        item['startPos'] = item.pop('start_char_index')\n",
    "        item['endPos'] = item.pop('end_char_index')\n",
    "     "
   ]
  },
  {
   "cell_type": "code",
   "execution_count": 24,
   "metadata": {},
   "outputs": [
    {
     "data": {
      "text/plain": [
       "{'text': \"hi i'd like to go to caprica from busan, between sunday august 21, 2016 and wednesday august 31, 2016\",\n",
       " 'entities': [{'entity': 'From', 'startPos': 34, 'endPos': 39},\n",
       "  {'entity': 'To', 'startPos': 21, 'endPos': 28},\n",
       "  {'entity': 'on_date', 'startPos': 49, 'endPos': 71},\n",
       "  {'entity': 'end_date', 'startPos': 76, 'endPos': 101}],\n",
       " 'intent': 'BookFlight'}"
      ]
     },
     "execution_count": 24,
     "metadata": {},
     "output_type": "execute_result"
    }
   ],
   "source": [
    "test_set[0]  "
   ]
  },
  {
   "cell_type": "markdown",
   "metadata": {},
   "source": [
    "[\n",
    "    {\n",
    "        \"text\": \"hey dad, are you hungry?\",\n",
    "        \"intent\": \"None\",\n",
    "        \"entities\": [\n",
    "            {\n",
    "                \"entity\": \"FamilyMember\",\n",
    "                \"startPos\": 4,\n",
    "                \"endPos\": 6\n",
    "            }\n",
    "        ]\n",
    "    }\n",
    "]"
   ]
  },
  {
   "cell_type": "markdown",
   "metadata": {},
   "source": [
    "Sauvegarde des fichiers"
   ]
  },
  {
   "cell_type": "code",
   "execution_count": 25,
   "metadata": {},
   "outputs": [],
   "source": [
    "with open(\"booking_test_set.json\", \"w\") as file:\n",
    "    json.dump(test_set, file)\n",
    "    \n",
    "with open(\"booking_train_set.json\", \"w\") as file:\n",
    "    json.dump(train_set, file)\n",
    "    \n",
    "with open(\"exemple.json\", \"w\") as file:\n",
    "    json.dump(result_final[1], file)"
   ]
  },
  {
   "cell_type": "markdown",
   "metadata": {},
   "source": [
    "Les fichiers suivants ont été créés :\n",
    "\n",
    " - booking_train_set.json en format nécessaire pour entrainer LUIS\n",
    " - booking_test_set.json en format nécessaire pour tester LUIS\n",
    " - exemple.json contient un exemple pour test manuel\n"
   ]
  }
 ],
 "metadata": {
  "kernelspec": {
   "display_name": "Python 3",
   "language": "python",
   "name": "python3"
  },
  "language_info": {
   "codemirror_mode": {
    "name": "ipython",
    "version": 3
   },
   "file_extension": ".py",
   "mimetype": "text/x-python",
   "name": "python",
   "nbconvert_exporter": "python",
   "pygments_lexer": "ipython3",
   "version": "3.8.10"
  }
 },
 "nbformat": 4,
 "nbformat_minor": 4
}
